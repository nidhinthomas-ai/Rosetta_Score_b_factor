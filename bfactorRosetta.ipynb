{
 "cells": [
  {
   "cell_type": "code",
   "execution_count": 1,
   "id": "77e6df0c-5b1c-4415-9820-b1d67d7796f2",
   "metadata": {},
   "outputs": [],
   "source": [
    "import os\n",
    "import sys\n",
    "import numpy as np\n",
    "\n",
    "import py3Dmol\n",
    "import matplotlib as mpl\n",
    "import matplotlib.pyplot as plt\n",
    "%matplotlib inline"
   ]
  },
  {
   "cell_type": "markdown",
   "id": "309be806",
   "metadata": {},
   "source": [
    "Added the HTML style to align the protein structure and the Rosetta Energy color bar."
   ]
  },
  {
   "cell_type": "code",
   "execution_count": 2,
   "id": "0e7eb432",
   "metadata": {},
   "outputs": [
    {
     "data": {
      "text/html": [
       "\n",
       "<style>\n",
       ".output_png {\n",
       "    display: table-cell;\n",
       "    text-align: center;\n",
       "    vertical-align: middle;\n",
       "}\n",
       "</style>\n"
      ],
      "text/plain": [
       "<IPython.core.display.HTML object>"
      ]
     },
     "execution_count": 2,
     "metadata": {},
     "output_type": "execute_result"
    }
   ],
   "source": [
    "from IPython.core.display import HTML\n",
    "HTML(\"\"\"\n",
    "<style>\n",
    ".output_png {\n",
    "    display: table-cell;\n",
    "    text-align: center;\n",
    "    vertical-align: middle;\n",
    "}\n",
    "</style>\n",
    "\"\"\")"
   ]
  },
  {
   "cell_type": "markdown",
   "id": "384e1eae",
   "metadata": {},
   "source": [
    "Function to read the Rosetta output pdbfile to extract the per residue energy values."
   ]
  },
  {
   "cell_type": "code",
   "execution_count": 3,
   "id": "e81e499b-16b3-4bd6-a03a-8381d94d7d2b",
   "metadata": {},
   "outputs": [],
   "source": [
    "def read_PDB_Rosetta(pdbfilename, split_string=\"pose\"):\n",
    "    \n",
    "    with open (pdbfilename, \"r\") as pdbfile:\n",
    "        \n",
    "        score = False\n",
    "        \n",
    "        score_list = []\n",
    "        \n",
    "        for line in pdbfile:\n",
    "            \n",
    "            if line.split(\" \")[0] == split_string:\n",
    "                \n",
    "                score = True\n",
    "                \n",
    "            if score == True:\n",
    "                \n",
    "                score_list += [str(line)]\n",
    "                \n",
    "    with open (\"{0}.bfactor\".format(pdbfilename.split('.')[0]), \"w\") as bfactor_score:\n",
    "        \n",
    "        for line in score_list[1:-2]:\n",
    "            \n",
    "                bfactor_score.write((line.split(\" \")[0]).split(\"_\")[-1] +\" \"+line.split(\" \")[-1])    \n",
    "                \n",
    "    with open (\"{0}.score\".format(pdbfilename.split('.')[0]), \"w\") as scorefile:\n",
    "        \n",
    "        for line in score_list:\n",
    "            \n",
    "            scorefile.write(line)\n"
   ]
  },
  {
   "cell_type": "markdown",
   "id": "b4d42ef9",
   "metadata": {},
   "source": [
    "Write the new PDB file with bfactor as Rosetta energy value."
   ]
  },
  {
   "cell_type": "code",
   "execution_count": 4,
   "id": "9c2f240f-593f-42af-819f-702199fcc3f3",
   "metadata": {},
   "outputs": [],
   "source": [
    "def write_pdb_Rosetta (pdb_filename, bfactor_filename, pdb_output_filename):\n",
    "    \n",
    "    with open (pdb_filename, \"r\") as pdb_file:\n",
    "        \n",
    "        pdb_lines = []\n",
    "        \n",
    "        for line in pdb_file:\n",
    "            \n",
    "            if line[0:6] == \"ATOM  \":\n",
    "                \n",
    "                pdb_lines += [str(line)]\n",
    "                \n",
    "    bfactor_dict = {}\n",
    "                \n",
    "    with open (bfactor_filename, \"r\") as bfactor_file:\n",
    "        \n",
    "        for line in bfactor_file:\n",
    "            \n",
    "            # print(int(line.split(\" \")[0]), float(line.split(\" \")[1]))\n",
    "                \n",
    "            bfactor_dict[int(line.split(\" \")[0])] = float((line.strip()).split(\" \")[1])\n",
    "    \n",
    "    with open (pdb_output_filename, \"w\") as pdb_output_file:\n",
    "    \n",
    "        for lineno, line in enumerate(pdb_lines):\n",
    "            \n",
    "            if lineno == 0:\n",
    "            \n",
    "                first_resnr = int(line[23:26])\n",
    "            \n",
    "            resnr = int(line[23:26])\n",
    "            \n",
    "            bfactor_iter = resnr - first_resnr + 1\n",
    "        \n",
    "            pdb_output_file.write(\"{prefix}{bfac:6.2f}{suffix}\".format(prefix=line[:60], bfac=bfactor_dict[bfactor_iter], suffix=line[66:]))\n",
    "    "
   ]
  },
  {
   "cell_type": "code",
   "execution_count": 5,
   "id": "f141cbb6-83d3-4634-8a75-5b9c781d5965",
   "metadata": {},
   "outputs": [],
   "source": [
    "read_PDB_Rosetta(\"rosetta_score.pdb\", split_string=\"pose\")"
   ]
  },
  {
   "cell_type": "code",
   "execution_count": 6,
   "id": "8f77c8d4-c125-45b4-82db-efe1efaebdac",
   "metadata": {},
   "outputs": [],
   "source": [
    "write_pdb_Rosetta (\"rosetta_score.pdb\", \"rosetta_score.bfactor\", \"rosetta_score_bfactor.pdb\")"
   ]
  },
  {
   "cell_type": "markdown",
   "id": "0af3cfe4",
   "metadata": {},
   "source": [
    "Plot the protein and color the protein surface with bfactor. The limit of the bfactor in this example is set from -10 to 10. The color bar is plotted first so that it can be plotted alonside the protein structure. "
   ]
  },
  {
   "cell_type": "code",
   "execution_count": 7,
   "id": "c41274dc-b362-4682-847d-60c324017e18",
   "metadata": {
    "scrolled": false
   },
   "outputs": [
    {
     "data": {
      "application/3dmoljs_load.v0": "<div id=\"3dmolviewer_1655902611535976\"  style=\"position: relative; width: 1000px; height: 600px\">\n        <p id=\"3dmolwarning_1655902611535976\" style=\"background-color:#ffcccc;color:black\">You appear to be running in JupyterLab (or JavaScript failed to load for some other reason).  You need to install the 3dmol extension: <br>\n        <tt>jupyter labextension install jupyterlab_3dmol</tt></p>\n        </div>\n<script>\n\nvar loadScriptAsync = function(uri){\n  return new Promise((resolve, reject) => {\n    var tag = document.createElement('script');\n    tag.src = uri;\n    tag.async = true;\n    tag.onload = () => {\n      resolve();\n    };\n  var firstScriptTag = document.getElementsByTagName('script')[0];\n  firstScriptTag.parentNode.insertBefore(tag, firstScriptTag);\n});\n};\n\nif(typeof $3Dmolpromise === 'undefined') {\n$3Dmolpromise = null;\n  $3Dmolpromise = loadScriptAsync('https://3dmol.org/build/3Dmol.js');\n}\n\nvar viewer_1655902611535976 = null;\nvar warn = document.getElementById(\"3dmolwarning_1655902611535976\");\nif(warn) {\n    warn.parentNode.removeChild(warn);\n}\n$3Dmolpromise.then(function() {\nviewer_1655902611535976 = $3Dmol.createViewer($(\"#3dmolviewer_1655902611535976\"),{backgroundColor:\"white\"});\n$3Dmol.download(\"./rosetta_score_bfactor.pdb\", viewer_1655902611535976, {}, function() {\nviewer_1655902611535976.zoomTo();\n\tviewer_1655902611535976.setStyle({\"cartoon\": {\"color\": \"white\"}});\n\tviewer_1655902611535976.addSurface(1,{\"opacity\": 0.7, \"colorscheme\": {\"prop\": \"b\", \"gradient\": \"roygb\", \"min\": -10, \"max\": 10}});\nviewer_1655902611535976.render();\n})\n});\n</script>",
      "text/html": [
       "<div id=\"3dmolviewer_1655902611535976\"  style=\"position: relative; width: 1000px; height: 600px\">\n",
       "        <p id=\"3dmolwarning_1655902611535976\" style=\"background-color:#ffcccc;color:black\">You appear to be running in JupyterLab (or JavaScript failed to load for some other reason).  You need to install the 3dmol extension: <br>\n",
       "        <tt>jupyter labextension install jupyterlab_3dmol</tt></p>\n",
       "        </div>\n",
       "<script>\n",
       "\n",
       "var loadScriptAsync = function(uri){\n",
       "  return new Promise((resolve, reject) => {\n",
       "    var tag = document.createElement('script');\n",
       "    tag.src = uri;\n",
       "    tag.async = true;\n",
       "    tag.onload = () => {\n",
       "      resolve();\n",
       "    };\n",
       "  var firstScriptTag = document.getElementsByTagName('script')[0];\n",
       "  firstScriptTag.parentNode.insertBefore(tag, firstScriptTag);\n",
       "});\n",
       "};\n",
       "\n",
       "if(typeof $3Dmolpromise === 'undefined') {\n",
       "$3Dmolpromise = null;\n",
       "  $3Dmolpromise = loadScriptAsync('https://3dmol.org/build/3Dmol.js');\n",
       "}\n",
       "\n",
       "var viewer_1655902611535976 = null;\n",
       "var warn = document.getElementById(\"3dmolwarning_1655902611535976\");\n",
       "if(warn) {\n",
       "    warn.parentNode.removeChild(warn);\n",
       "}\n",
       "$3Dmolpromise.then(function() {\n",
       "viewer_1655902611535976 = $3Dmol.createViewer($(\"#3dmolviewer_1655902611535976\"),{backgroundColor:\"white\"});\n",
       "$3Dmol.download(\"./rosetta_score_bfactor.pdb\", viewer_1655902611535976, {}, function() {\n",
       "viewer_1655902611535976.zoomTo();\n",
       "\tviewer_1655902611535976.setStyle({\"cartoon\": {\"color\": \"white\"}});\n",
       "\tviewer_1655902611535976.addSurface(1,{\"opacity\": 0.7, \"colorscheme\": {\"prop\": \"b\", \"gradient\": \"roygb\", \"min\": -10, \"max\": 10}});\n",
       "viewer_1655902611535976.render();\n",
       "})\n",
       "});\n",
       "</script>"
      ]
     },
     "metadata": {},
     "output_type": "display_data"
    },
    {
     "data": {
      "text/plain": [
       "<py3Dmol.view at 0x7f247432d8b0>"
      ]
     },
     "execution_count": 7,
     "metadata": {},
     "output_type": "execute_result"
    },
    {
     "data": {
      "image/png": "[encoded data removed]",
      "text/plain": [
       "<Figure size 432x72 with 1 Axes>"
      ]
     },
     "metadata": {
      "needs_background": "light"
     },
     "output_type": "display_data"
    }
   ],
   "source": [
    "fig, ax = plt.subplots(figsize=(6, 1))\n",
    "fig.subplots_adjust(bottom=0.5)\n",
    "\n",
    "cmap = mpl.cm.jet_r\n",
    "norm = mpl.colors.Normalize(vmin=-10, vmax=10)\n",
    "\n",
    "cb1 = mpl.colorbar.ColorbarBase(ax, cmap=cmap,norm=norm,orientation='horizontal')\n",
    "cb1.set_label('Rosetta Energy',fontsize=20,fontweight='bold')\n",
    "cb1.ax.tick_params(labelsize=16) \n",
    "\n",
    "view1 = py3Dmol.view(\"./rosetta_score_bfactor.pdb\", height=600,width=1000)\n",
    "view1.setStyle({'cartoon': {'color':'white'}})\n",
    "view1.addSurface(py3Dmol.VDW,{'opacity':0.7,'colorscheme':{'prop':'b','gradient':'roygb','min':-10,'max':10}})"
   ]
  }
 ],
 "metadata": {
  "kernelspec": {
   "display_name": "nidhin",
   "language": "python",
   "name": "nidhin"
  },
  "language_info": {
   "codemirror_mode": {
    "name": "ipython",
    "version": 3
   },
   "file_extension": ".py",
   "mimetype": "text/x-python",
   "name": "python",
   "nbconvert_exporter": "python",
   "pygments_lexer": "ipython3",
   "version": "3.9.7"
  }
 },
 "nbformat": 4,
 "nbformat_minor": 5
}
